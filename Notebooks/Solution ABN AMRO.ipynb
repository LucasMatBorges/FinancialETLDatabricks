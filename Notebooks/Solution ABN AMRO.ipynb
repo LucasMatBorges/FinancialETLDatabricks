{
 "cells": [
  {
   "cell_type": "code",
   "execution_count": 0,
   "metadata": {
    "application/vnd.databricks.v1+cell": {
     "cellMetadata": {
      "byteLimit": 2048000,
      "rowLimit": 10000
     },
     "collapsed": true,
     "inputWidgets": {},
     "nuid": "0fe2f188-d580-462a-af07-717306b992a1",
     "showTitle": true,
     "title": "Installing pytest"
    }
   },
   "outputs": [
    {
     "output_type": "stream",
     "name": "stdout",
     "output_type": "stream",
     "text": [
      "\u001B[43mNote: you may need to restart the kernel using dbutils.library.restartPython() to use updated packages.\u001B[0m\nRequirement already satisfied: pytest in /local_disk0/.ephemeral_nfs/cluster_libraries/python/lib/python3.10/site-packages (8.2.2)\nRequirement already satisfied: packaging in /databricks/python3/lib/python3.10/site-packages (from pytest) (23.2)\nRequirement already satisfied: tomli>=1 in /databricks/python3/lib/python3.10/site-packages (from pytest) (2.0.1)\nRequirement already satisfied: pluggy<2.0,>=1.5 in /local_disk0/.ephemeral_nfs/cluster_libraries/python/lib/python3.10/site-packages (from pytest) (1.5.0)\nRequirement already satisfied: iniconfig in /local_disk0/.ephemeral_nfs/cluster_libraries/python/lib/python3.10/site-packages (from pytest) (2.0.0)\nRequirement already satisfied: exceptiongroup>=1.0.0rc8 in /local_disk0/.ephemeral_nfs/cluster_libraries/python/lib/python3.10/site-packages (from pytest) (1.2.1)\n\u001B[43mNote: you may need to restart the kernel using dbutils.library.restartPython() to use updated packages.\u001B[0m\n"
     ]
    }
   ],
   "source": [
    "#Install pytest if necessary\n",
    "%pip install pytest"
   ]
  },
  {
   "cell_type": "markdown",
   "metadata": {
    "application/vnd.databricks.v1+cell": {
     "cellMetadata": {
      "byteLimit": 2048000,
      "rowLimit": 10000
     },
     "inputWidgets": {},
     "nuid": "5af5e4f5-a071-4ac8-88ee-c299a2bbd964",
     "showTitle": false,
     "title": ""
    }
   },
   "source": [
    "## Import Functions and Register UDF's\n",
    "We define the necessary functions to transform the data."
   ]
  },
  {
   "cell_type": "code",
   "execution_count": 0,
   "metadata": {
    "application/vnd.databricks.v1+cell": {
     "cellMetadata": {
      "byteLimit": 2048000,
      "rowLimit": 10000
     },
     "inputWidgets": {},
     "nuid": "f8a713b1-641b-4a26-8b7f-bc1032442ed5",
     "showTitle": true,
     "title": "Importing the Libraries and Creating UDF's"
    }
   },
   "outputs": [],
   "source": [
    "from decimal import Decimal\n",
    "from pyspark.sql.types import StringType, IntegerType, FloatType, BooleanType, DateType\n",
    "from datetime import datetime\n",
    "from pyspark.sql.functions import col, udf, lit, when, round, sum as _sum\n",
    "import pandas as pd\n",
    "import my_functions\n",
    "\n",
    "# Register UDFs\n",
    "remove_leading_zeros_udf = udf(my_functions.remove_leading_zeros, StringType())\n",
    "convert_to_yn_udf = udf(my_functions.convert_to_yn, StringType())\n",
    "calculate_amount_eur_udf = udf(my_functions.calculate_amount_eur, FloatType())\n",
    "yn_to_bool_udf = udf(my_functions.yn_to_bool, BooleanType())\n",
    "determine_enterprise_size_udf = udf(my_functions.determine_enterprise_size, StringType())\n",
    "to_date_udf = udf(my_functions.to_date, DateType())"
   ]
  },
  {
   "cell_type": "markdown",
   "metadata": {
    "application/vnd.databricks.v1+cell": {
     "cellMetadata": {
      "byteLimit": 2048000,
      "rowLimit": 10000
     },
     "inputWidgets": {},
     "nuid": "84575dbd-a4be-40e0-9223-c51009a71fd1",
     "showTitle": false,
     "title": ""
    }
   },
   "source": [
    "## Setup and Loading Tables\n",
    "We set up the environment and load the necessary tables from the catalog into DataFrames.\n"
   ]
  },
  {
   "cell_type": "code",
   "execution_count": 0,
   "metadata": {
    "application/vnd.databricks.v1+cell": {
     "cellMetadata": {
      "byteLimit": 2048000,
      "rowLimit": 10000
     },
     "inputWidgets": {},
     "nuid": "60447615-b3c5-4477-acf5-db2675939fb3",
     "showTitle": true,
     "title": "Loading Catalog Tables into Spark DataFrames"
    }
   },
   "outputs": [],
   "source": [
    "# Load tables from the catalog into DataFrames\n",
    "source1 = spark.table(\"source_1\")\n",
    "source2 = spark.table(\"source_2\")\n",
    "client_secured = spark.table(\"client_secured_ind\")\n",
    "exchange_rates = spark.table(\"exchange_rates\")"
   ]
  },
  {
   "cell_type": "markdown",
   "metadata": {
    "application/vnd.databricks.v1+cell": {
     "cellMetadata": {
      "byteLimit": 2048000,
      "rowLimit": 10000
     },
     "inputWidgets": {},
     "nuid": "ef50a240-1114-4540-96bc-960e34b649be",
     "showTitle": false,
     "title": ""
    }
   },
   "source": [
    "## Transform and Rename Source DataFrames\n",
    "We renames columns and applie transformations to the `source1`, `source2` and `client_secured` DataFrames."
   ]
  },
  {
   "cell_type": "code",
   "execution_count": 0,
   "metadata": {
    "application/vnd.databricks.v1+cell": {
     "cellMetadata": {
      "byteLimit": 2048000,
      "rowLimit": 10000
     },
     "inputWidgets": {},
     "nuid": "b9c5bb34-baa1-43fd-94b0-44c07f477aa1",
     "showTitle": true,
     "title": "Dataframe Source Transformation"
    }
   },
   "outputs": [],
   "source": [
    "# Transform and rename source1 DataFrame\n",
    "source1_transformed = source1 \\\n",
    "    .withColumnRenamed('DataSource', 'SourceSystem') \\\n",
    "    .withColumnRenamed('ClientAmount', 'OriginalAmount') \\\n",
    "    .withColumnRenamed('Currency', 'OriginalCurrency') \\\n",
    "    .withColumnRenamed('ClientSince', 'OnboardingDate') \\\n",
    "    .withColumnRenamed('Location', 'Country') \\\n",
    "    .withColumnRenamed('EligibleForDiscount', 'DiscountCheck') \\\n",
    "    .withColumn('ClientNumber', remove_leading_zeros_udf(col('ClientNumber'))) \\\n",
    "    .withColumn('DiscountCheck', convert_to_yn_udf(col('DiscountCheck')))\n",
    "\n",
    "# Transform and rename source2 DataFrame\n",
    "source2_transformed = source2 \\\n",
    "    .withColumnRenamed('SourceSystem', 'SourceSystem') \\\n",
    "    .withColumnRenamed('ClientAmount', 'OriginalAmount') \\\n",
    "    .withColumnRenamed('Currency', 'OriginalCurrency') \\\n",
    "    .withColumnRenamed('ClientSince', 'OnboardingDate') \\\n",
    "    .withColumnRenamed('HasLoan', 'LoanCheck') \\\n",
    "    .withColumn('ClientNumber', remove_leading_zeros_udf(col('ClientNumber'))) \\\n",
    "    .withColumn('LoanCheck', convert_to_yn_udf(col('LoanCheck')))\n",
    "\n",
    "# Remove duplicates in client_secured DataFrame\n",
    "client_secured = client_secured.drop_duplicates(subset=['ClientNumber'])"
   ]
  },
  {
   "cell_type": "markdown",
   "metadata": {
    "application/vnd.databricks.v1+cell": {
     "cellMetadata": {
      "byteLimit": 2048000,
      "rowLimit": 10000
     },
     "inputWidgets": {},
     "nuid": "858e5179-3742-4dae-9df0-49d4de57ca72",
     "showTitle": false,
     "title": ""
    }
   },
   "source": [
    "## Handle Missing Columns and Concatenate DataFrames\n",
    "We add missing columns with default values and concatenate the transformed DataFrames."
   ]
  },
  {
   "cell_type": "code",
   "execution_count": 0,
   "metadata": {
    "application/vnd.databricks.v1+cell": {
     "cellMetadata": {
      "byteLimit": 2048000,
      "rowLimit": 10000
     },
     "inputWidgets": {},
     "nuid": "39d11b41-c96a-4d7b-99f0-b6fffbdcac29",
     "showTitle": true,
     "title": "Combining and Transforming DataFrames"
    }
   },
   "outputs": [],
   "source": [
    "# Add missing columns with default values\n",
    "source1_transformed = source1_transformed.withColumn('LoanCheck', lit('NA'))\n",
    "source2_transformed = source2_transformed \\\n",
    "    .withColumn('Country', lit(None).cast(StringType())) \\\n",
    "    .withColumn('DiscountCheck', lit('NA'))\n",
    "\n",
    "# Select final columns\n",
    "final_columns = [\n",
    "    'SourceSystem', 'ClientGroup', 'ClientNumber', 'OriginalAmount', 'OriginalCurrency',\n",
    "    'NumberOfEmployees', 'OnboardingDate', 'LoanCheck', 'Country', 'DiscountCheck', 'SnapshotDate']\n",
    "\n",
    "source1_transformed = source1_transformed.select(final_columns)\n",
    "source2_transformed = source2_transformed.select(final_columns)\n",
    "\n",
    "# Concatenate DataFrames using union\n",
    "final_df = source1_transformed.union(source2_transformed)"
   ]
  },
  {
   "cell_type": "markdown",
   "metadata": {
    "application/vnd.databricks.v1+cell": {
     "cellMetadata": {
      "byteLimit": 2048000,
      "rowLimit": 10000
     },
     "inputWidgets": {},
     "nuid": "51fe199a-89db-4675-aa99-4a95e3a2c4e7",
     "showTitle": false,
     "title": ""
    }
   },
   "source": [
    "## Data Cleaning and Join Operations\n",
    "This section performs data cleaning and joins with the `exchange_rates` and `client_secured` DataFrames."
   ]
  },
  {
   "cell_type": "code",
   "execution_count": 0,
   "metadata": {
    "application/vnd.databricks.v1+cell": {
     "cellMetadata": {
      "byteLimit": 2048000,
      "rowLimit": 10000
     },
     "inputWidgets": {},
     "nuid": "0ab85e45-cd35-4623-986c-82fb68de575c",
     "showTitle": true,
     "title": "Data Transformation and Join Operations"
    }
   },
   "outputs": [],
   "source": [
    "# Replace incorrect dates in the OnboardingDate column\n",
    "final_df = final_df.withColumn('OnboardingDate', when(col('OnboardingDate') == '2010-05-111', '2010-05-11').otherwise(col('OnboardingDate')))\n",
    "\n",
    "# Convert OriginalAmount to float\n",
    "final_df = final_df.withColumn('OriginalAmount', col('OriginalAmount').cast('float'))\n",
    "\n",
    "# Rename SnapshotDate in exchange_rates to avoid duplication\n",
    "exchange_rates = exchange_rates.withColumnRenamed(\"SnapshotDate\", \"ExchangeRateSnapshotDate\")\n",
    "\n",
    "# Join with exchange_rates DataFrame\n",
    "final_df = final_df.join(exchange_rates, \n",
    "                         on=[final_df.OriginalCurrency == exchange_rates.Currency, \n",
    "                             final_df.SnapshotDate == exchange_rates.ExchangeRateSnapshotDate], \n",
    "                         how='left')\n",
    "\n",
    "# Apply calculate_amount_eur function\n",
    "final_df = final_df.withColumn('AmountEUR', calculate_amount_eur_udf(col('OriginalAmount'), col('OriginalCurrency'), col('ExchangeRate')))\n",
    "\n",
    "# Select desired columns\n",
    "final_df = final_df.select('SourceSystem', 'ClientGroup', 'ClientNumber', 'OriginalAmount', 'OriginalCurrency',\n",
    "                           'NumberOfEmployees', 'OnboardingDate', 'LoanCheck', 'Country', 'DiscountCheck', \n",
    "                           'SnapshotDate', 'AmountEUR')\n",
    "\n",
    "# Drop unnecessary columns\n",
    "final_df = final_df.drop('Currency', 'ExchangeRate', 'ExchangeRateSnapshotDate')\n",
    "\n",
    "# Remove duplicates in client_secured DataFrame\n",
    "client_secured = client_secured.drop_duplicates(subset=['ClientNumber'])\n",
    "\n",
    "# Rename ClientNumber in client_secured to avoid duplication\n",
    "client_secured = client_secured.withColumnRenamed(\"ClientNumber\", \"ClientSecuredClientNumber\")\n",
    "\n",
    "# Join with client_secured DataFrame\n",
    "final_df = final_df.join(client_secured, on=final_df.ClientNumber == client_secured.ClientSecuredClientNumber, how='left')\n",
    "\n",
    "# Convert ClientSecuredInd to boolean\n",
    "final_df = final_df.withColumn('ClientSecuredIND', yn_to_bool_udf(col('ClientSecuredInd')))\n",
    "\n",
    "# Drop temporary ClientSecuredClientNumber column\n",
    "final_df = final_df.drop('ClientSecuredClientNumber')\n",
    "\n",
    "# Convert 'NumberOfEmployees' column to int\n",
    "final_df = final_df.withColumn('NumberOfEmployees', col('NumberOfEmployees').cast('int'))\n",
    "\n",
    "# Apply the determine enterprise size function as a new column\n",
    "final_df = final_df.withColumn('EnterpriseSize', determine_enterprise_size_udf(col('NumberOfEmployees')))"
   ]
  },
  {
   "cell_type": "markdown",
   "metadata": {
    "application/vnd.databricks.v1+cell": {
     "cellMetadata": {
      "byteLimit": 2048000,
      "rowLimit": 10000
     },
     "inputWidgets": {},
     "nuid": "536d86d3-4063-4e7b-844d-a952dd9d5a32",
     "showTitle": false,
     "title": ""
    }
   },
   "source": [
    "## Calculate Secured Amount and Convert to Pandas DataFrame\n",
    "This section calculates the secured amount and converts the DataFrame to a Pandas DataFrame for further processing."
   ]
  },
  {
   "cell_type": "code",
   "execution_count": 0,
   "metadata": {
    "application/vnd.databricks.v1+cell": {
     "cellMetadata": {
      "byteLimit": 2048000,
      "rowLimit": 10000
     },
     "inputWidgets": {},
     "nuid": "c572860e-a434-407f-b841-46c1166af3b3",
     "showTitle": true,
     "title": "Data Transformation using PySpark and Pandas"
    }
   },
   "outputs": [],
   "source": [
    "# Collect data to driver\n",
    "data = final_df.collect()\n",
    "\n",
    "# Create a Pandas DataFrame to apply the logic\n",
    "pdf = pd.DataFrame(data, columns=final_df.columns)\n",
    "\n",
    "# Apply calculate_secured_amount function\n",
    "pdf = my_functions.calculate_secured_amount(pdf)\n",
    "\n",
    "# Create a new PySpark DataFrame from the modified Pandas DataFrame\n",
    "final_df = spark.createDataFrame(pdf)"
   ]
  },
  {
   "cell_type": "code",
   "execution_count": 0,
   "metadata": {
    "application/vnd.databricks.v1+cell": {
     "cellMetadata": {
      "byteLimit": 2048000,
      "rowLimit": 10000
     },
     "inputWidgets": {},
     "nuid": "01d7d5b9-f264-44a0-9955-715a05ff7b88",
     "showTitle": false,
     "title": ""
    }
   },
   "outputs": [],
   "source": [
    "# Convert columns to appropriate data types\n",
    "final_df = final_df.withColumn('SourceSystem', col('SourceSystem').cast(StringType()))\n",
    "final_df = final_df.withColumn('ClientGroup', col('ClientGroup').cast(IntegerType()))\n",
    "final_df = final_df.withColumn('ClientNumber', col('ClientNumber').cast(IntegerType()))\n",
    "final_df = final_df.withColumn('OriginalCurrency', col('OriginalCurrency').cast(StringType()))\n",
    "final_df = final_df.withColumn('NumberOfEmployees', col('NumberOfEmployees').cast(IntegerType()))\n",
    "final_df = final_df.withColumn('OnboardingDate', to_date_udf(col('OnboardingDate')))\n",
    "final_df = final_df.withColumn('LoanCheck', col('LoanCheck').cast(StringType()))\n",
    "final_df = final_df.withColumn('Country', col('Country').cast(StringType()))\n",
    "final_df = final_df.withColumn('DiscountCheck', col('DiscountCheck').cast(StringType()))\n",
    "final_df = final_df.withColumn('SnapshotDate', to_date_udf(col('SnapshotDate')))\n",
    "final_df = final_df.withColumn('OriginalAmount', round(col('OriginalAmount').cast(FloatType()), 2))\n",
    "final_df = final_df.withColumn('AmountEUR', round(col('AmountEUR').cast(FloatType()), 2))\n",
    "final_df = final_df.withColumn('ClientSecuredIND', col('ClientSecuredIND').cast(BooleanType()))\n",
    "final_df = final_df.withColumn('EnterpriseSize', col('EnterpriseSize').cast(StringType()))\n",
    "final_df = final_df.withColumn('SecuredAmountEUR', round(col('SecuredAmountEUR').cast(FloatType()), 2))"
   ]
  },
  {
   "cell_type": "code",
   "execution_count": 0,
   "metadata": {
    "application/vnd.databricks.v1+cell": {
     "cellMetadata": {
      "byteLimit": 2048000,
      "rowLimit": 10000
     },
     "inputWidgets": {},
     "nuid": "adcdbe36-3b60-4a14-a5c4-3a29e9382800",
     "showTitle": true,
     "title": "Table Creation with Ordering"
    }
   },
   "outputs": [
    {
     "output_type": "execute_result",
     "data": {
      "text/plain": [
       "DataFrame[num_affected_rows: bigint, num_inserted_rows: bigint]"
      ]
     },
     "execution_count": 14,
     "metadata": {},
     "output_type": "execute_result"
    }
   ],
   "source": [
    "final_df.createOrReplaceTempView(\"temp_table\")\n",
    "\n",
    "# Drop the table if it exists\n",
    "spark.sql(\"DROP TABLE IF EXISTS hive_metastore.default.financialtransactions\")\n",
    "\n",
    "# Create the table with explicit ordering\n",
    "spark.sql(\"\"\"\n",
    "    CREATE TABLE hive_metastore.default.financialtransactions \n",
    "    USING delta \n",
    "    PARTITIONED BY (SnapshotDate, ClientGroup) \n",
    "    AS SELECT * FROM temp_table \n",
    "    ORDER BY ClientGroup, ClientNumber\n",
    "\"\"\")"
   ]
  },
  {
   "cell_type": "code",
   "execution_count": 0,
   "metadata": {
    "application/vnd.databricks.v1+cell": {
     "cellMetadata": {
      "byteLimit": 2048000,
      "implicitDf": true,
      "rowLimit": 10000
     },
     "inputWidgets": {},
     "nuid": "785aefd7-de53-4940-9384-f9bc7d772b95",
     "showTitle": true,
     "title": "Financial Transactions by Client Group and Number"
    }
   },
   "outputs": [
    {
     "output_type": "display_data",
     "data": {
      "text/html": [
       "<style scoped>\n",
       "  .table-result-container {\n",
       "    max-height: 300px;\n",
       "    overflow: auto;\n",
       "  }\n",
       "  table, th, td {\n",
       "    border: 1px solid black;\n",
       "    border-collapse: collapse;\n",
       "  }\n",
       "  th, td {\n",
       "    padding: 5px;\n",
       "  }\n",
       "  th {\n",
       "    text-align: left;\n",
       "  }\n",
       "</style><div class='table-result-container'><table class='table-result'><thead style='background-color: white'><tr><th>SourceSystem</th><th>ClientGroup</th><th>ClientNumber</th><th>OriginalAmount</th><th>OriginalCurrency</th><th>NumberOfEmployees</th><th>OnboardingDate</th><th>LoanCheck</th><th>Country</th><th>DiscountCheck</th><th>SnapshotDate</th><th>AmountEUR</th><th>ClientSecuredIND</th><th>EnterpriseSize</th><th>SecuredAmountEUR</th></tr></thead><tbody><tr><td>Source2</td><td>7</td><td>7421</td><td>4332.89</td><td>SEK</td><td>123</td><td>2011-06-12</td><td>Y</td><td>null</td><td>NA</td><td>2023-02-07</td><td>368.3</td><td>true</td><td>M</td><td>368.3</td></tr><tr><td>Source2</td><td>7</td><td>127382</td><td>459120.0</td><td>EUR</td><td>19</td><td>1994-07-23</td><td>N</td><td>null</td><td>NA</td><td>2023-02-07</td><td>459120.0</td><td>true</td><td>S</td><td>459120.0</td></tr><tr><td>Source1</td><td>10</td><td>12</td><td>459120.0</td><td>EUR</td><td>19</td><td>1994-07-23</td><td>NA</td><td>BE</td><td>N</td><td>2023-02-06</td><td>459120.0</td><td>true</td><td>S</td><td>459120.0</td></tr><tr><td>Source1</td><td>10</td><td>764</td><td>134078.0</td><td>EUR</td><td>3792</td><td>2020-04-12</td><td>NA</td><td>DE</td><td>Y</td><td>2023-02-06</td><td>134078.0</td><td>true</td><td>L</td><td>40880.0</td></tr><tr><td>Source1</td><td>11</td><td>901</td><td>78309.0</td><td>EUR</td><td>1048</td><td>2015-02-16</td><td>NA</td><td>NL</td><td>N</td><td>2023-02-06</td><td>78309.0</td><td>true</td><td>L</td><td>78309.0</td></tr><tr><td>Source1</td><td>11</td><td>1298</td><td>325280.0</td><td>EUR</td><td>40</td><td>2010-05-11</td><td>NA</td><td>NL</td><td>Y</td><td>2023-02-06</td><td>325280.0</td><td>true</td><td>S</td><td>325280.0</td></tr><tr><td>Source1</td><td>11</td><td>6345</td><td>15045.0</td><td>EUR</td><td>551</td><td>2010-04-12</td><td>NA</td><td>NL</td><td>Y</td><td>2023-02-06</td><td>15045.0</td><td>true</td><td>M</td><td>15045.0</td></tr><tr><td>Source1</td><td>11</td><td>664521</td><td>14783.09</td><td>USD</td><td>2200</td><td>2019-03-17</td><td>NA</td><td>FR</td><td>N</td><td>2023-02-06</td><td>14595.34</td><td>true</td><td>L</td><td>14595.34</td></tr><tr><td>Source2</td><td>17</td><td>442</td><td>259000.0</td><td>EUR</td><td>1654</td><td>2019-04-12</td><td>N</td><td>null</td><td>NA</td><td>2023-02-07</td><td>259000.0</td><td>false</td><td>L</td><td>0.0</td></tr><tr><td>Source2</td><td>17</td><td>764</td><td>134078.0</td><td>EUR</td><td>3792</td><td>2020-04-12</td><td>Y</td><td>null</td><td>NA</td><td>2023-02-07</td><td>134078.0</td><td>true</td><td>L</td><td>134078.0</td></tr><tr><td>Source2</td><td>143</td><td>3</td><td>27384.12</td><td>EUR</td><td>523</td><td>1999-01-11</td><td>Y</td><td>null</td><td>NA</td><td>2023-02-07</td><td>27384.12</td><td>true</td><td>M</td><td>27384.12</td></tr><tr><td>Source2</td><td>143</td><td>4</td><td>5492.23</td><td>USD</td><td>4782</td><td>2016-03-02</td><td>N</td><td>null</td><td>NA</td><td>2023-02-07</td><td>5448.84</td><td>true</td><td>L</td><td>5448.84</td></tr><tr><td>Source2</td><td>143</td><td>66</td><td>5642.12</td><td>EUR</td><td>45</td><td>2013-12-12</td><td>Y</td><td>null</td><td>NA</td><td>2023-02-07</td><td>5642.12</td><td>true</td><td>S</td><td>5642.12</td></tr><tr><td>Source2</td><td>143</td><td>459</td><td>476290.0</td><td>EUR</td><td>32</td><td>2010-04-12</td><td>Y</td><td>null</td><td>NA</td><td>2023-02-07</td><td>476290.0</td><td>true</td><td>S</td><td>461524.9</td></tr><tr><td>Source2</td><td>143</td><td>6991</td><td>14783.09</td><td>USD</td><td>2200</td><td>2019-03-17</td><td>N</td><td>null</td><td>NA</td><td>2023-02-07</td><td>14666.3</td><td>false</td><td>L</td><td>0.0</td></tr><tr><td>Source2</td><td>239</td><td>12</td><td>325280.0</td><td>EUR</td><td>40</td><td>2010-05-11</td><td>Y</td><td>null</td><td>NA</td><td>2023-02-07</td><td>325280.0</td><td>true</td><td>S</td><td>325280.0</td></tr><tr><td>Source2</td><td>239</td><td>63</td><td>15045.0</td><td>EUR</td><td>551</td><td>2010-04-12</td><td>Y</td><td>null</td><td>NA</td><td>2023-02-07</td><td>15045.0</td><td>true</td><td>M</td><td>15045.0</td></tr><tr><td>Source2</td><td>239</td><td>90</td><td>78309.0</td><td>EUR</td><td>1048</td><td>2015-02-16</td><td>N</td><td>null</td><td>NA</td><td>2023-02-07</td><td>78309.0</td><td>true</td><td>L</td><td>78309.0</td></tr><tr><td>Source1</td><td>893</td><td>15</td><td>27384.12</td><td>EUR</td><td>521</td><td>1999-01-11</td><td>NA</td><td>BE</td><td>Y</td><td>2023-02-06</td><td>27384.12</td><td>false</td><td>M</td><td>0.0</td></tr><tr><td>Source1</td><td>893</td><td>2145</td><td>5492.23</td><td>USD</td><td>4782</td><td>2016-03-02</td><td>NA</td><td>FR</td><td>N</td><td>2023-02-06</td><td>5422.48</td><td>false</td><td>L</td><td>0.0</td></tr><tr><td>Source1</td><td>893</td><td>23423</td><td>5642.12</td><td>EUR</td><td>45</td><td>2013-12-12</td><td>NA</td><td>NL</td><td>Y</td><td>2023-02-06</td><td>5642.12</td><td>false</td><td>S</td><td>0.0</td></tr><tr><td>Source1</td><td>1104</td><td>5</td><td>259000.0</td><td>EUR</td><td>1654</td><td>2019-04-12</td><td>NA</td><td>NL</td><td>N</td><td>2023-02-06</td><td>259000.0</td><td>false</td><td>L</td><td>0.0</td></tr><tr><td>Source1</td><td>1104</td><td>23</td><td>4332.89</td><td>SEK</td><td>123</td><td>2011-06-12</td><td>NA</td><td>NL</td><td>Y</td><td>2023-02-06</td><td>363.96</td><td>true</td><td>M</td><td>363.96</td></tr><tr><td>Source1</td><td>1104</td><td>45</td><td>476290.0</td><td>EUR</td><td>32</td><td>2010-04-12</td><td>NA</td><td>NL</td><td>Y</td><td>2023-02-06</td><td>476290.0</td><td>false</td><td>S</td><td>0.0</td></tr></tbody></table></div>"
      ]
     },
     "metadata": {
      "application/vnd.databricks.v1+output": {
       "addedWidgets": {},
       "aggData": [],
       "aggError": "",
       "aggOverflow": false,
       "aggSchema": [],
       "aggSeriesLimitReached": false,
       "aggType": "",
       "arguments": {},
       "columnCustomDisplayInfos": {},
       "data": [
        [
         "Source2",
         7,
         7421,
         4332.89,
         "SEK",
         123,
         "2011-06-12",
         "Y",
         null,
         "NA",
         "2023-02-07",
         368.3,
         true,
         "M",
         368.3
        ],
        [
         "Source2",
         7,
         127382,
         459120.0,
         "EUR",
         19,
         "1994-07-23",
         "N",
         null,
         "NA",
         "2023-02-07",
         459120.0,
         true,
         "S",
         459120.0
        ],
        [
         "Source1",
         10,
         12,
         459120.0,
         "EUR",
         19,
         "1994-07-23",
         "NA",
         "BE",
         "N",
         "2023-02-06",
         459120.0,
         true,
         "S",
         459120.0
        ],
        [
         "Source1",
         10,
         764,
         134078.0,
         "EUR",
         3792,
         "2020-04-12",
         "NA",
         "DE",
         "Y",
         "2023-02-06",
         134078.0,
         true,
         "L",
         40880.0
        ],
        [
         "Source1",
         11,
         901,
         78309.0,
         "EUR",
         1048,
         "2015-02-16",
         "NA",
         "NL",
         "N",
         "2023-02-06",
         78309.0,
         true,
         "L",
         78309.0
        ],
        [
         "Source1",
         11,
         1298,
         325280.0,
         "EUR",
         40,
         "2010-05-11",
         "NA",
         "NL",
         "Y",
         "2023-02-06",
         325280.0,
         true,
         "S",
         325280.0
        ],
        [
         "Source1",
         11,
         6345,
         15045.0,
         "EUR",
         551,
         "2010-04-12",
         "NA",
         "NL",
         "Y",
         "2023-02-06",
         15045.0,
         true,
         "M",
         15045.0
        ],
        [
         "Source1",
         11,
         664521,
         14783.09,
         "USD",
         2200,
         "2019-03-17",
         "NA",
         "FR",
         "N",
         "2023-02-06",
         14595.34,
         true,
         "L",
         14595.34
        ],
        [
         "Source2",
         17,
         442,
         259000.0,
         "EUR",
         1654,
         "2019-04-12",
         "N",
         null,
         "NA",
         "2023-02-07",
         259000.0,
         false,
         "L",
         0.0
        ],
        [
         "Source2",
         17,
         764,
         134078.0,
         "EUR",
         3792,
         "2020-04-12",
         "Y",
         null,
         "NA",
         "2023-02-07",
         134078.0,
         true,
         "L",
         134078.0
        ],
        [
         "Source2",
         143,
         3,
         27384.12,
         "EUR",
         523,
         "1999-01-11",
         "Y",
         null,
         "NA",
         "2023-02-07",
         27384.12,
         true,
         "M",
         27384.12
        ],
        [
         "Source2",
         143,
         4,
         5492.23,
         "USD",
         4782,
         "2016-03-02",
         "N",
         null,
         "NA",
         "2023-02-07",
         5448.84,
         true,
         "L",
         5448.84
        ],
        [
         "Source2",
         143,
         66,
         5642.12,
         "EUR",
         45,
         "2013-12-12",
         "Y",
         null,
         "NA",
         "2023-02-07",
         5642.12,
         true,
         "S",
         5642.12
        ],
        [
         "Source2",
         143,
         459,
         476290.0,
         "EUR",
         32,
         "2010-04-12",
         "Y",
         null,
         "NA",
         "2023-02-07",
         476290.0,
         true,
         "S",
         461524.9
        ],
        [
         "Source2",
         143,
         6991,
         14783.09,
         "USD",
         2200,
         "2019-03-17",
         "N",
         null,
         "NA",
         "2023-02-07",
         14666.3,
         false,
         "L",
         0.0
        ],
        [
         "Source2",
         239,
         12,
         325280.0,
         "EUR",
         40,
         "2010-05-11",
         "Y",
         null,
         "NA",
         "2023-02-07",
         325280.0,
         true,
         "S",
         325280.0
        ],
        [
         "Source2",
         239,
         63,
         15045.0,
         "EUR",
         551,
         "2010-04-12",
         "Y",
         null,
         "NA",
         "2023-02-07",
         15045.0,
         true,
         "M",
         15045.0
        ],
        [
         "Source2",
         239,
         90,
         78309.0,
         "EUR",
         1048,
         "2015-02-16",
         "N",
         null,
         "NA",
         "2023-02-07",
         78309.0,
         true,
         "L",
         78309.0
        ],
        [
         "Source1",
         893,
         15,
         27384.12,
         "EUR",
         521,
         "1999-01-11",
         "NA",
         "BE",
         "Y",
         "2023-02-06",
         27384.12,
         false,
         "M",
         0.0
        ],
        [
         "Source1",
         893,
         2145,
         5492.23,
         "USD",
         4782,
         "2016-03-02",
         "NA",
         "FR",
         "N",
         "2023-02-06",
         5422.48,
         false,
         "L",
         0.0
        ],
        [
         "Source1",
         893,
         23423,
         5642.12,
         "EUR",
         45,
         "2013-12-12",
         "NA",
         "NL",
         "Y",
         "2023-02-06",
         5642.12,
         false,
         "S",
         0.0
        ],
        [
         "Source1",
         1104,
         5,
         259000.0,
         "EUR",
         1654,
         "2019-04-12",
         "NA",
         "NL",
         "N",
         "2023-02-06",
         259000.0,
         false,
         "L",
         0.0
        ],
        [
         "Source1",
         1104,
         23,
         4332.89,
         "SEK",
         123,
         "2011-06-12",
         "NA",
         "NL",
         "Y",
         "2023-02-06",
         363.96,
         true,
         "M",
         363.96
        ],
        [
         "Source1",
         1104,
         45,
         476290.0,
         "EUR",
         32,
         "2010-04-12",
         "NA",
         "NL",
         "Y",
         "2023-02-06",
         476290.0,
         false,
         "S",
         0.0
        ]
       ],
       "datasetInfos": [],
       "dbfsResultPath": null,
       "isJsonSchema": true,
       "metadata": {
        "dataframeName": "_sqldf",
        "executionCount": 15
       },
       "overflow": false,
       "plotOptions": {
        "customPlotOptions": {},
        "displayType": "table",
        "pivotAggregation": null,
        "pivotColumns": null,
        "xColumns": null,
        "yColumns": null
       },
       "removedWidgets": [],
       "schema": [
        {
         "metadata": "{}",
         "name": "SourceSystem",
         "type": "\"string\""
        },
        {
         "metadata": "{}",
         "name": "ClientGroup",
         "type": "\"integer\""
        },
        {
         "metadata": "{}",
         "name": "ClientNumber",
         "type": "\"integer\""
        },
        {
         "metadata": "{}",
         "name": "OriginalAmount",
         "type": "\"float\""
        },
        {
         "metadata": "{}",
         "name": "OriginalCurrency",
         "type": "\"string\""
        },
        {
         "metadata": "{}",
         "name": "NumberOfEmployees",
         "type": "\"integer\""
        },
        {
         "metadata": "{}",
         "name": "OnboardingDate",
         "type": "\"date\""
        },
        {
         "metadata": "{}",
         "name": "LoanCheck",
         "type": "\"string\""
        },
        {
         "metadata": "{}",
         "name": "Country",
         "type": "\"string\""
        },
        {
         "metadata": "{}",
         "name": "DiscountCheck",
         "type": "\"string\""
        },
        {
         "metadata": "{}",
         "name": "SnapshotDate",
         "type": "\"date\""
        },
        {
         "metadata": "{}",
         "name": "AmountEUR",
         "type": "\"float\""
        },
        {
         "metadata": "{}",
         "name": "ClientSecuredIND",
         "type": "\"boolean\""
        },
        {
         "metadata": "{}",
         "name": "EnterpriseSize",
         "type": "\"string\""
        },
        {
         "metadata": "{}",
         "name": "SecuredAmountEUR",
         "type": "\"float\""
        }
       ],
       "type": "table"
      }
     },
     "output_type": "display_data"
    }
   ],
   "source": [
    "%sql\n",
    "SELECT * FROM financialtransactions\n",
    "ORDER BY ClientGroup, ClientNumber"
   ]
  },
  {
   "cell_type": "markdown",
   "metadata": {
    "application/vnd.databricks.v1+cell": {
     "cellMetadata": {
      "byteLimit": 2048000,
      "rowLimit": 10000
     },
     "inputWidgets": {},
     "nuid": "50879afe-c2a4-4a7b-b57c-2ca267f91f8d",
     "showTitle": false,
     "title": ""
    }
   },
   "source": [
    "## Questions"
   ]
  },
  {
   "cell_type": "code",
   "execution_count": 0,
   "metadata": {
    "application/vnd.databricks.v1+cell": {
     "cellMetadata": {
      "byteLimit": 2048000,
      "implicitDf": true,
      "rowLimit": 10000
     },
     "inputWidgets": {},
     "nuid": "9635cdc8-18bb-4704-9604-892bade4f321",
     "showTitle": true,
     "title": "Question 1"
    }
   },
   "outputs": [
    {
     "output_type": "display_data",
     "data": {
      "text/html": [
       "<style scoped>\n",
       "  .table-result-container {\n",
       "    max-height: 300px;\n",
       "    overflow: auto;\n",
       "  }\n",
       "  table, th, td {\n",
       "    border: 1px solid black;\n",
       "    border-collapse: collapse;\n",
       "  }\n",
       "  th, td {\n",
       "    padding: 5px;\n",
       "  }\n",
       "  th {\n",
       "    text-align: left;\n",
       "  }\n",
       "</style><div class='table-result-container'><table class='table-result'><thead style='background-color: white'><tr><th>ClientNumber</th><th>SecuredAmountEUR</th></tr></thead><tbody><tr><td>6991</td><td>0.0</td></tr></tbody></table></div>"
      ]
     },
     "metadata": {
      "application/vnd.databricks.v1+output": {
       "addedWidgets": {},
       "aggData": [],
       "aggError": "",
       "aggOverflow": false,
       "aggSchema": [],
       "aggSeriesLimitReached": false,
       "aggType": "",
       "arguments": {},
       "columnCustomDisplayInfos": {},
       "data": [
        [
         6991,
         0.0
        ]
       ],
       "datasetInfos": [],
       "dbfsResultPath": null,
       "isJsonSchema": true,
       "metadata": {
        "dataframeName": "_sqldf",
        "executionCount": 44
       },
       "overflow": false,
       "plotOptions": {
        "customPlotOptions": {},
        "displayType": "table",
        "pivotAggregation": null,
        "pivotColumns": null,
        "xColumns": null,
        "yColumns": null
       },
       "removedWidgets": [],
       "schema": [
        {
         "metadata": "{}",
         "name": "ClientNumber",
         "type": "\"integer\""
        },
        {
         "metadata": "{}",
         "name": "SecuredAmountEUR",
         "type": "\"float\""
        }
       ],
       "type": "table"
      }
     },
     "output_type": "display_data"
    }
   ],
   "source": [
    "%sql\n",
    "--1. Value of SecuredAmount for Client_Number 6991\n",
    "SELECT ClientNumber, SecuredAmountEUR FROM financialtransactions\n",
    "WHERE ClientNumber = 6991;\n"
   ]
  },
  {
   "cell_type": "code",
   "execution_count": 0,
   "metadata": {
    "application/vnd.databricks.v1+cell": {
     "cellMetadata": {
      "byteLimit": 2048000,
      "implicitDf": true,
      "rowLimit": 10000
     },
     "inputWidgets": {},
     "nuid": "96ffe9b7-2246-4b6b-816e-2fe77d75c6a4",
     "showTitle": true,
     "title": "Question 2"
    }
   },
   "outputs": [
    {
     "output_type": "display_data",
     "data": {
      "text/html": [
       "<style scoped>\n",
       "  .table-result-container {\n",
       "    max-height: 300px;\n",
       "    overflow: auto;\n",
       "  }\n",
       "  table, th, td {\n",
       "    border: 1px solid black;\n",
       "    border-collapse: collapse;\n",
       "  }\n",
       "  th, td {\n",
       "    padding: 5px;\n",
       "  }\n",
       "  th {\n",
       "    text-align: left;\n",
       "  }\n",
       "</style><div class='table-result-container'><table class='table-result'><thead style='background-color: white'><tr><th>EnterpriseSize</th><th>Qnt</th></tr></thead><tbody><tr><td>M</td><td>6</td></tr></tbody></table></div>"
      ]
     },
     "metadata": {
      "application/vnd.databricks.v1+output": {
       "addedWidgets": {},
       "aggData": [],
       "aggError": "",
       "aggOverflow": false,
       "aggSchema": [],
       "aggSeriesLimitReached": false,
       "aggType": "",
       "arguments": {},
       "columnCustomDisplayInfos": {},
       "data": [
        [
         "M",
         6
        ]
       ],
       "datasetInfos": [],
       "dbfsResultPath": null,
       "isJsonSchema": true,
       "metadata": {
        "dataframeName": "_sqldf",
        "executionCount": 46
       },
       "overflow": false,
       "plotOptions": {
        "customPlotOptions": {},
        "displayType": "table",
        "pivotAggregation": null,
        "pivotColumns": null,
        "xColumns": null,
        "yColumns": null
       },
       "removedWidgets": [],
       "schema": [
        {
         "metadata": "{}",
         "name": "EnterpriseSize",
         "type": "\"string\""
        },
        {
         "metadata": "{}",
         "name": "Qnt",
         "type": "\"long\""
        }
       ],
       "type": "table"
      }
     },
     "output_type": "display_data"
    }
   ],
   "source": [
    "%sql\n",
    "--2. Number of records where EnterprizeSize is M\n",
    "SELECT EnterpriseSize, Count(*) AS Qnt FROM financialtransactions\n",
    "WHERE EnterpriseSize = 'M'\n",
    "GROUP BY EnterpriseSize;"
   ]
  },
  {
   "cell_type": "code",
   "execution_count": 0,
   "metadata": {
    "application/vnd.databricks.v1+cell": {
     "cellMetadata": {
      "byteLimit": 2048000,
      "implicitDf": true,
      "rowLimit": 10000
     },
     "inputWidgets": {},
     "nuid": "a6cf4228-015e-48eb-84e4-8038cf560f24",
     "showTitle": true,
     "title": "Question 3"
    }
   },
   "outputs": [
    {
     "output_type": "display_data",
     "data": {
      "text/html": [
       "<style scoped>\n",
       "  .table-result-container {\n",
       "    max-height: 300px;\n",
       "    overflow: auto;\n",
       "  }\n",
       "  table, th, td {\n",
       "    border: 1px solid black;\n",
       "    border-collapse: collapse;\n",
       "  }\n",
       "  th, td {\n",
       "    padding: 5px;\n",
       "  }\n",
       "  th {\n",
       "    text-align: left;\n",
       "  }\n",
       "</style><div class='table-result-container'><table class='table-result'><thead style='background-color: white'><tr><th>SourceSystem</th><th>round(sum(AmountEUR), 2)</th></tr></thead><tbody><tr><td>Source2</td><td>1800631.68</td></tr></tbody></table></div>"
      ]
     },
     "metadata": {
      "application/vnd.databricks.v1+output": {
       "addedWidgets": {},
       "aggData": [],
       "aggError": "",
       "aggOverflow": false,
       "aggSchema": [],
       "aggSeriesLimitReached": false,
       "aggType": "",
       "arguments": {},
       "columnCustomDisplayInfos": {},
       "data": [
        [
         "Source2",
         1800631.68
        ]
       ],
       "datasetInfos": [],
       "dbfsResultPath": null,
       "isJsonSchema": true,
       "metadata": {
        "dataframeName": "_sqldf",
        "executionCount": 47
       },
       "overflow": false,
       "plotOptions": {
        "customPlotOptions": {},
        "displayType": "table",
        "pivotAggregation": null,
        "pivotColumns": null,
        "xColumns": null,
        "yColumns": null
       },
       "removedWidgets": [],
       "schema": [
        {
         "metadata": "{}",
         "name": "SourceSystem",
         "type": "\"string\""
        },
        {
         "metadata": "{\"__autoGeneratedAlias\":\"true\"}",
         "name": "round(sum(AmountEUR), 2)",
         "type": "\"double\""
        }
       ],
       "type": "table"
      }
     },
     "output_type": "display_data"
    }
   ],
   "source": [
    "%sql\n",
    "--3. Number of records where EnterprizeSize is M\n",
    "SELECT SourceSystem, round(Sum(AmountEUR),2) FROM financialtransactions\n",
    "WHERE SourceSystem = 'Source2'\n",
    "GROUP BY SourceSystem;"
   ]
  },
  {
   "cell_type": "code",
   "execution_count": 0,
   "metadata": {
    "application/vnd.databricks.v1+cell": {
     "cellMetadata": {},
     "inputWidgets": {},
     "nuid": "16d9c1f5-2cce-4b0c-9735-e965f089df2d",
     "showTitle": true,
     "title": "Question 4"
    }
   },
   "outputs": [],
   "source": [
    "%sql\n",
    "--4. Number of records where EnterprizeSize is M\n",
    "SELECT ClientSecuredIND, round(Sum(OriginalAmount),2) FROM financialtransactions\n",
    "WHERE ClientSecuredIND = FALSE\n",
    "GROUP BY ClientSecuredIND;"
   ]
  }
 ],
 "metadata": {
  "application/vnd.databricks.v1+notebook": {
   "dashboards": [],
   "environmentMetadata": null,
   "language": "python",
   "notebookMetadata": {
    "mostRecentlyExecutedCommandWithImplicitDF": {
     "commandId": 4372202701630850,
     "dataframes": [
      "_sqldf"
     ]
    },
    "pythonIndentUnit": 4
   },
   "notebookName": "Solution ABN AMRO",
   "widgets": {}
  }
 },
 "nbformat": 4,
 "nbformat_minor": 0
}
