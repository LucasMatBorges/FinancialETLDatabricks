{
 "cells": [
  {
   "cell_type": "code",
   "execution_count": 0,
   "metadata": {
    "application/vnd.databricks.v1+cell": {
     "cellMetadata": {
      "byteLimit": 2048000,
      "rowLimit": 10000
     },
     "inputWidgets": {},
     "nuid": "db562253-5908-425d-9b75-ec295da887dd",
     "showTitle": false,
     "title": ""
    }
   },
   "outputs": [
    {
     "output_type": "stream",
     "name": "stdout",
     "output_type": "stream",
     "text": [
      "\u001B[1m============================= test session starts ==============================\u001B[0m\nplatform linux -- Python 3.10.12, pytest-8.2.2, pluggy-1.5.0 -- /local_disk0/.ephemeral_nfs/envs/pythonEnv-e5380cb1-0497-4075-8a95-5c9cbb892f4d/bin/python\ncachedir: .pytest_cache\nrootdir: /Workspace/Users/lucasmatborges@gmail.com/ALM_Refined\nplugins: anyio-3.5.0\n\u001B[1mcollecting ... \u001B[0mcollected 9 items\n\ntest_my_functions.py::test_remove_leading_zeros \u001B[32mPASSED\u001B[0m\u001B[32m                   [ 11%]\u001B[0m\ntest_my_functions.py::test_convert_to_yn \u001B[32mPASSED\u001B[0m\u001B[32m                          [ 22%]\u001B[0m\ntest_my_functions.py::test_to_int \u001B[32mPASSED\u001B[0m\u001B[32m                                 [ 33%]\u001B[0m\ntest_my_functions.py::test_to_decimal \u001B[32mPASSED\u001B[0m\u001B[32m                             [ 44%]\u001B[0m\ntest_my_functions.py::test_to_date \u001B[32mPASSED\u001B[0m\u001B[32m                                [ 55%]\u001B[0m\ntest_my_functions.py::test_calculate_amount_eur \u001B[32mPASSED\u001B[0m\u001B[32m                   [ 66%]\u001B[0m\ntest_my_functions.py::test_yn_to_bool \u001B[32mPASSED\u001B[0m\u001B[32m                             [ 77%]\u001B[0m\ntest_my_functions.py::test_determine_enterprise_size \u001B[32mPASSED\u001B[0m\u001B[32m              [ 88%]\u001B[0m\ntest_my_functions.py::test_calculate_secured_amount \u001B[32mPASSED\u001B[0m\u001B[32m               [100%]\u001B[0m\n\n\u001B[32m============================== \u001B[32m\u001B[1m9 passed\u001B[0m\u001B[32m in 0.83s\u001B[0m\u001B[32m ===============================\u001B[0m\n"
     ]
    },
    {
     "output_type": "execute_result",
     "data": {
      "text/plain": [
       "<ExitCode.OK: 0>"
      ]
     },
     "execution_count": 2,
     "metadata": {},
     "output_type": "execute_result"
    }
   ],
   "source": [
    "import pytest\n",
    "import sys\n",
    "import test_my_functions\n",
    "\n",
    "sys.dont_write_bytecode = True\n",
    "\n",
    "#Run Tests\n",
    "pytest.main([\"-v\"])"
   ]
  }
 ],
 "metadata": {
  "application/vnd.databricks.v1+notebook": {
   "dashboards": [],
   "environmentMetadata": null,
   "language": "python",
   "notebookMetadata": {
    "mostRecentlyExecutedCommandWithImplicitDF": {
     "commandId": 2020870890715534,
     "dataframes": [
      "_sqldf"
     ]
    },
    "pythonIndentUnit": 4
   },
   "notebookName": "Unit Testing with Pytest",
   "widgets": {}
  }
 },
 "nbformat": 4,
 "nbformat_minor": 0
}
